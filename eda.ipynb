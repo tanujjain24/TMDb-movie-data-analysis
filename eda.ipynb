{
 "metadata": {
  "language_info": {
   "codemirror_mode": {
    "name": "ipython",
    "version": 3
   },
   "file_extension": ".py",
   "mimetype": "text/x-python",
   "name": "python",
   "nbconvert_exporter": "python",
   "pygments_lexer": "ipython3",
   "version": "3.8.10"
  },
  "orig_nbformat": 4,
  "kernelspec": {
   "name": "python3",
   "display_name": "Python 3.8.10 64-bit ('base': conda)"
  },
  "interpreter": {
   "hash": "bfae3289c5bc4176813b446ea14ef17824238ab20835ca5f0635f33dc9fb0e31"
  }
 },
 "nbformat": 4,
 "nbformat_minor": 2,
 "cells": [
  {
   "source": [
    "# TMDb Movie Data Analysis"
   ],
   "cell_type": "markdown",
   "metadata": {}
  },
  {
   "source": [
    "## Introduction\n",
    "\n",
    "This data set contains information about 10,000 movies collected from The Movie Database (TMDb), including user ratings and revenue.\n",
    "\n",
    "- The ‘cast’ and ‘genres’, contain multiple values separated by pipe (|) characters.\n",
    "- There are some odd characters in the ‘cast’ column. Don’t worry about cleaning them. You can leave them as is.\n",
    "- The final two columns ending with “_adj” show the budget and revenue of the associated movie in terms of 2010 dollars, accounting for inflation over time.\n"
   ],
   "cell_type": "markdown",
   "metadata": {}
  },
  {
   "source": [
    "__Questions to research in the analysis__\n",
    "- Which genres are most popular from year to year?\n",
    "- What kinds of properties are associated with movies that have high revenues?\n",
    "- Directors with most movies\n",
    "- Most Popular genres\n",
    "- Most earning / popular movie in a year\n",
    "\n",
    "\n",
    "> Max budget, max revenue, max profit, oldest movie"
   ],
   "cell_type": "markdown",
   "metadata": {}
  },
  {
   "cell_type": "code",
   "execution_count": 6,
   "metadata": {},
   "outputs": [],
   "source": [
    "# Import libraries\n",
    "\n",
    "import pandas as pd  \n",
    "import numpy as np \n",
    "import matplotlib.pyplot as plt  \n",
    "%matplotlib inline"
   ]
  },
  {
   "cell_type": "code",
   "execution_count": 7,
   "metadata": {},
   "outputs": [],
   "source": [
    "df = pd.read_csv('tmdb-movies.csv')"
   ]
  },
  {
   "cell_type": "code",
   "execution_count": 8,
   "metadata": {},
   "outputs": [
    {
     "output_type": "execute_result",
     "data": {
      "text/plain": [
       "       id    imdb_id  popularity     budget     revenue      original_title  \\\n",
       "0  135397  tt0369610   32.985763  150000000  1513528810      Jurassic World   \n",
       "1   76341  tt1392190   28.419936  150000000   378436354  Mad Max: Fury Road   \n",
       "\n",
       "                                                cast  \\\n",
       "0  Chris Pratt|Bryce Dallas Howard|Irrfan Khan|Vi...   \n",
       "1  Tom Hardy|Charlize Theron|Hugh Keays-Byrne|Nic...   \n",
       "\n",
       "                        homepage         director             tagline  ...  \\\n",
       "0  http://www.jurassicworld.com/  Colin Trevorrow   The park is open.  ...   \n",
       "1    http://www.madmaxmovie.com/    George Miller  What a Lovely Day.  ...   \n",
       "\n",
       "                                            overview runtime  \\\n",
       "0  Twenty-two years after the events of Jurassic ...     124   \n",
       "1  An apocalyptic story set in the furthest reach...     120   \n",
       "\n",
       "                                      genres  \\\n",
       "0  Action|Adventure|Science Fiction|Thriller   \n",
       "1  Action|Adventure|Science Fiction|Thriller   \n",
       "\n",
       "                                production_companies release_date vote_count  \\\n",
       "0  Universal Studios|Amblin Entertainment|Legenda...       6/9/15       5562   \n",
       "1  Village Roadshow Pictures|Kennedy Miller Produ...      5/13/15       6185   \n",
       "\n",
       "   vote_average  release_year    budget_adj   revenue_adj  \n",
       "0           6.5          2015  1.379999e+08  1.392446e+09  \n",
       "1           7.1          2015  1.379999e+08  3.481613e+08  \n",
       "\n",
       "[2 rows x 21 columns]"
      ],
      "text/html": "<div>\n<style scoped>\n    .dataframe tbody tr th:only-of-type {\n        vertical-align: middle;\n    }\n\n    .dataframe tbody tr th {\n        vertical-align: top;\n    }\n\n    .dataframe thead th {\n        text-align: right;\n    }\n</style>\n<table border=\"1\" class=\"dataframe\">\n  <thead>\n    <tr style=\"text-align: right;\">\n      <th></th>\n      <th>id</th>\n      <th>imdb_id</th>\n      <th>popularity</th>\n      <th>budget</th>\n      <th>revenue</th>\n      <th>original_title</th>\n      <th>cast</th>\n      <th>homepage</th>\n      <th>director</th>\n      <th>tagline</th>\n      <th>...</th>\n      <th>overview</th>\n      <th>runtime</th>\n      <th>genres</th>\n      <th>production_companies</th>\n      <th>release_date</th>\n      <th>vote_count</th>\n      <th>vote_average</th>\n      <th>release_year</th>\n      <th>budget_adj</th>\n      <th>revenue_adj</th>\n    </tr>\n  </thead>\n  <tbody>\n    <tr>\n      <th>0</th>\n      <td>135397</td>\n      <td>tt0369610</td>\n      <td>32.985763</td>\n      <td>150000000</td>\n      <td>1513528810</td>\n      <td>Jurassic World</td>\n      <td>Chris Pratt|Bryce Dallas Howard|Irrfan Khan|Vi...</td>\n      <td>http://www.jurassicworld.com/</td>\n      <td>Colin Trevorrow</td>\n      <td>The park is open.</td>\n      <td>...</td>\n      <td>Twenty-two years after the events of Jurassic ...</td>\n      <td>124</td>\n      <td>Action|Adventure|Science Fiction|Thriller</td>\n      <td>Universal Studios|Amblin Entertainment|Legenda...</td>\n      <td>6/9/15</td>\n      <td>5562</td>\n      <td>6.5</td>\n      <td>2015</td>\n      <td>1.379999e+08</td>\n      <td>1.392446e+09</td>\n    </tr>\n    <tr>\n      <th>1</th>\n      <td>76341</td>\n      <td>tt1392190</td>\n      <td>28.419936</td>\n      <td>150000000</td>\n      <td>378436354</td>\n      <td>Mad Max: Fury Road</td>\n      <td>Tom Hardy|Charlize Theron|Hugh Keays-Byrne|Nic...</td>\n      <td>http://www.madmaxmovie.com/</td>\n      <td>George Miller</td>\n      <td>What a Lovely Day.</td>\n      <td>...</td>\n      <td>An apocalyptic story set in the furthest reach...</td>\n      <td>120</td>\n      <td>Action|Adventure|Science Fiction|Thriller</td>\n      <td>Village Roadshow Pictures|Kennedy Miller Produ...</td>\n      <td>5/13/15</td>\n      <td>6185</td>\n      <td>7.1</td>\n      <td>2015</td>\n      <td>1.379999e+08</td>\n      <td>3.481613e+08</td>\n    </tr>\n  </tbody>\n</table>\n<p>2 rows × 21 columns</p>\n</div>"
     },
     "metadata": {},
     "execution_count": 8
    }
   ],
   "source": [
    "# Visual Assessment \n",
    "df.head(2)"
   ]
  },
  {
   "cell_type": "code",
   "execution_count": 9,
   "metadata": {},
   "outputs": [
    {
     "output_type": "stream",
     "name": "stdout",
     "text": [
      "<class 'pandas.core.frame.DataFrame'>\nRangeIndex: 10866 entries, 0 to 10865\nData columns (total 21 columns):\n #   Column                Non-Null Count  Dtype  \n---  ------                --------------  -----  \n 0   id                    10866 non-null  int64  \n 1   imdb_id               10856 non-null  object \n 2   popularity            10866 non-null  float64\n 3   budget                10866 non-null  int64  \n 4   revenue               10866 non-null  int64  \n 5   original_title        10866 non-null  object \n 6   cast                  10790 non-null  object \n 7   homepage              2936 non-null   object \n 8   director              10822 non-null  object \n 9   tagline               8042 non-null   object \n 10  keywords              9373 non-null   object \n 11  overview              10862 non-null  object \n 12  runtime               10866 non-null  int64  \n 13  genres                10843 non-null  object \n 14  production_companies  9836 non-null   object \n 15  release_date          10866 non-null  object \n 16  vote_count            10866 non-null  int64  \n 17  vote_average          10866 non-null  float64\n 18  release_year          10866 non-null  int64  \n 19  budget_adj            10866 non-null  float64\n 20  revenue_adj           10866 non-null  float64\ndtypes: float64(4), int64(6), object(11)\nmemory usage: 1.7+ MB\n"
     ]
    }
   ],
   "source": [
    "# Column information & Null Values\n",
    "df.info()"
   ]
  },
  {
   "source": [
    "- Few Null values exist in `cast`, `director`, `overview` & `genres`, so these can be dropped\n",
    "- Many Null values exist in `homepage`, `tagline`, `keywords` & `production_companies` columns. Further we can drop `keywords` & `production_companies` since this data is not necesary in the analysis."
   ],
   "cell_type": "markdown",
   "metadata": {}
  },
  {
   "source": [
    "Descriptive Statistics"
   ],
   "cell_type": "markdown",
   "metadata": {}
  },
  {
   "cell_type": "code",
   "execution_count": 10,
   "metadata": {},
   "outputs": [
    {
     "output_type": "execute_result",
     "data": {
      "text/plain": [
       "                  id    popularity        budget       revenue       runtime  \\\n",
       "count   10866.000000  10866.000000  1.086600e+04  1.086600e+04  10866.000000   \n",
       "mean    66064.177434      0.646441  1.462570e+07  3.982332e+07    102.070863   \n",
       "std     92130.136561      1.000185  3.091321e+07  1.170035e+08     31.381405   \n",
       "min         5.000000      0.000065  0.000000e+00  0.000000e+00      0.000000   \n",
       "25%     10596.250000      0.207583  0.000000e+00  0.000000e+00     90.000000   \n",
       "50%     20669.000000      0.383856  0.000000e+00  0.000000e+00     99.000000   \n",
       "75%     75610.000000      0.713817  1.500000e+07  2.400000e+07    111.000000   \n",
       "max    417859.000000     32.985763  4.250000e+08  2.781506e+09    900.000000   \n",
       "\n",
       "         vote_count  vote_average  release_year    budget_adj   revenue_adj  \n",
       "count  10866.000000  10866.000000  10866.000000  1.086600e+04  1.086600e+04  \n",
       "mean     217.389748      5.974922   2001.322658  1.755104e+07  5.136436e+07  \n",
       "std      575.619058      0.935142     12.812941  3.430616e+07  1.446325e+08  \n",
       "min       10.000000      1.500000   1960.000000  0.000000e+00  0.000000e+00  \n",
       "25%       17.000000      5.400000   1995.000000  0.000000e+00  0.000000e+00  \n",
       "50%       38.000000      6.000000   2006.000000  0.000000e+00  0.000000e+00  \n",
       "75%      145.750000      6.600000   2011.000000  2.085325e+07  3.369710e+07  \n",
       "max     9767.000000      9.200000   2015.000000  4.250000e+08  2.827124e+09  "
      ],
      "text/html": "<div>\n<style scoped>\n    .dataframe tbody tr th:only-of-type {\n        vertical-align: middle;\n    }\n\n    .dataframe tbody tr th {\n        vertical-align: top;\n    }\n\n    .dataframe thead th {\n        text-align: right;\n    }\n</style>\n<table border=\"1\" class=\"dataframe\">\n  <thead>\n    <tr style=\"text-align: right;\">\n      <th></th>\n      <th>id</th>\n      <th>popularity</th>\n      <th>budget</th>\n      <th>revenue</th>\n      <th>runtime</th>\n      <th>vote_count</th>\n      <th>vote_average</th>\n      <th>release_year</th>\n      <th>budget_adj</th>\n      <th>revenue_adj</th>\n    </tr>\n  </thead>\n  <tbody>\n    <tr>\n      <th>count</th>\n      <td>10866.000000</td>\n      <td>10866.000000</td>\n      <td>1.086600e+04</td>\n      <td>1.086600e+04</td>\n      <td>10866.000000</td>\n      <td>10866.000000</td>\n      <td>10866.000000</td>\n      <td>10866.000000</td>\n      <td>1.086600e+04</td>\n      <td>1.086600e+04</td>\n    </tr>\n    <tr>\n      <th>mean</th>\n      <td>66064.177434</td>\n      <td>0.646441</td>\n      <td>1.462570e+07</td>\n      <td>3.982332e+07</td>\n      <td>102.070863</td>\n      <td>217.389748</td>\n      <td>5.974922</td>\n      <td>2001.322658</td>\n      <td>1.755104e+07</td>\n      <td>5.136436e+07</td>\n    </tr>\n    <tr>\n      <th>std</th>\n      <td>92130.136561</td>\n      <td>1.000185</td>\n      <td>3.091321e+07</td>\n      <td>1.170035e+08</td>\n      <td>31.381405</td>\n      <td>575.619058</td>\n      <td>0.935142</td>\n      <td>12.812941</td>\n      <td>3.430616e+07</td>\n      <td>1.446325e+08</td>\n    </tr>\n    <tr>\n      <th>min</th>\n      <td>5.000000</td>\n      <td>0.000065</td>\n      <td>0.000000e+00</td>\n      <td>0.000000e+00</td>\n      <td>0.000000</td>\n      <td>10.000000</td>\n      <td>1.500000</td>\n      <td>1960.000000</td>\n      <td>0.000000e+00</td>\n      <td>0.000000e+00</td>\n    </tr>\n    <tr>\n      <th>25%</th>\n      <td>10596.250000</td>\n      <td>0.207583</td>\n      <td>0.000000e+00</td>\n      <td>0.000000e+00</td>\n      <td>90.000000</td>\n      <td>17.000000</td>\n      <td>5.400000</td>\n      <td>1995.000000</td>\n      <td>0.000000e+00</td>\n      <td>0.000000e+00</td>\n    </tr>\n    <tr>\n      <th>50%</th>\n      <td>20669.000000</td>\n      <td>0.383856</td>\n      <td>0.000000e+00</td>\n      <td>0.000000e+00</td>\n      <td>99.000000</td>\n      <td>38.000000</td>\n      <td>6.000000</td>\n      <td>2006.000000</td>\n      <td>0.000000e+00</td>\n      <td>0.000000e+00</td>\n    </tr>\n    <tr>\n      <th>75%</th>\n      <td>75610.000000</td>\n      <td>0.713817</td>\n      <td>1.500000e+07</td>\n      <td>2.400000e+07</td>\n      <td>111.000000</td>\n      <td>145.750000</td>\n      <td>6.600000</td>\n      <td>2011.000000</td>\n      <td>2.085325e+07</td>\n      <td>3.369710e+07</td>\n    </tr>\n    <tr>\n      <th>max</th>\n      <td>417859.000000</td>\n      <td>32.985763</td>\n      <td>4.250000e+08</td>\n      <td>2.781506e+09</td>\n      <td>900.000000</td>\n      <td>9767.000000</td>\n      <td>9.200000</td>\n      <td>2015.000000</td>\n      <td>4.250000e+08</td>\n      <td>2.827124e+09</td>\n    </tr>\n  </tbody>\n</table>\n</div>"
     },
     "metadata": {},
     "execution_count": 10
    }
   ],
   "source": [
    "df.describe()"
   ]
  },
  {
   "source": [
    "## Data Wrangling\n",
    "\n",
    "### Gathering Data: \n",
    "The data is imported from CSV file into the notebook within a pandas dataframe\n",
    "\n",
    "### Assessing Data:"
   ],
   "cell_type": "markdown",
   "metadata": {}
  },
  {
   "source": [
    "This [link](https://www.themoviedb.org/talk/5141d424760ee34da71431b0) states that `popularity` score is measured by counting unique views on the website with number of ratings, favourites & watched list additions. Also, it has no upper bond. "
   ],
   "cell_type": "markdown",
   "metadata": {}
  },
  {
   "cell_type": "code",
   "execution_count": 11,
   "metadata": {},
   "outputs": [
    {
     "output_type": "execute_result",
     "data": {
      "text/plain": [
       "        id    imdb_id  popularity  budget   revenue  \\\n",
       "30  280996  tt3168230    3.927333       0  29355203   \n",
       "36  339527  tt1291570    3.358321       0  22354572   \n",
       "72  284289  tt2911668    2.272044       0     45895   \n",
       "74  347096  tt3478232    2.165433       0         0   \n",
       "75  308369  tt2582496    2.141506       0         0   \n",
       "\n",
       "                    original_title  \\\n",
       "30                      Mr. Holmes   \n",
       "36                          Solace   \n",
       "72                Beyond the Reach   \n",
       "74          Mythica: The Darkspore   \n",
       "75  Me and Earl and the Dying Girl   \n",
       "\n",
       "                                                 cast  \\\n",
       "30  Ian McKellen|Milo Parker|Laura Linney|Hattie M...   \n",
       "36  Abbie Cornish|Jeffrey Dean Morgan|Colin Farrel...   \n",
       "72  Michael Douglas|Jeremy Irvine|Hanna Mangan Law...   \n",
       "74  Melanie Stone|Kevin Sorbo|Adam Johnson|Jake St...   \n",
       "75  Thomas Mann|RJ Cyler|Olivia Cooke|Connie Britt...   \n",
       "\n",
       "                                             homepage  \\\n",
       "30                       http://www.mrholmesfilm.com/   \n",
       "36                                                NaN   \n",
       "72                                                NaN   \n",
       "74          http://www.mythicamovie.com/#!blank/wufvh   \n",
       "75  http://www.foxsearchlight.com/meandearlandthed...   \n",
       "\n",
       "                   director  \\\n",
       "30              Bill Condon   \n",
       "36            Afonso Poyart   \n",
       "72  Jean-Baptiste LÃ©onetti   \n",
       "74            Anne K. Black   \n",
       "75      Alfonso Gomez-Rejon   \n",
       "\n",
       "                                              tagline  ...  \\\n",
       "30                            The man behind the myth  ...   \n",
       "36  A serial killer who can see your future, a psy...  ...   \n",
       "72                                                NaN  ...   \n",
       "74                                                NaN  ...   \n",
       "75           A Little Friendship Never Killed Anyone.  ...   \n",
       "\n",
       "                                             overview runtime  \\\n",
       "30  The story is set in 1947, following a long-ret...     103   \n",
       "36  A psychic doctor, John Clancy, works with an F...     101   \n",
       "72  A high-rolling corporate shark and his impover...      95   \n",
       "74  When Teelaâ€™s sister is murdered and a powerf...     108   \n",
       "75  Greg is coasting through senior year of high s...     105   \n",
       "\n",
       "                      genres  \\\n",
       "30             Mystery|Drama   \n",
       "36       Crime|Drama|Mystery   \n",
       "72                  Thriller   \n",
       "74  Action|Adventure|Fantasy   \n",
       "75              Comedy|Drama   \n",
       "\n",
       "                                 production_companies release_date vote_count  \\\n",
       "30  BBC Films|See-Saw Films|FilmNation Entertainme...      6/19/15        425   \n",
       "36  Eden Rock Media|FilmNation Entertainment|Flynn...       9/3/15        474   \n",
       "72                                      Furthur Films      4/17/15         81   \n",
       "74                           Arrowstorm Entertainment      6/24/15         27   \n",
       "75                                  Indian Paintbrush      6/12/15        569   \n",
       "\n",
       "    vote_average  release_year  budget_adj   revenue_adj  \n",
       "30           6.4          2015         0.0  2.700677e+07  \n",
       "36           6.2          2015         0.0  2.056620e+07  \n",
       "72           5.5          2015         0.0  4.222338e+04  \n",
       "74           5.1          2015         0.0  0.000000e+00  \n",
       "75           7.7          2015         0.0  0.000000e+00  \n",
       "\n",
       "[5 rows x 21 columns]"
      ],
      "text/html": "<div>\n<style scoped>\n    .dataframe tbody tr th:only-of-type {\n        vertical-align: middle;\n    }\n\n    .dataframe tbody tr th {\n        vertical-align: top;\n    }\n\n    .dataframe thead th {\n        text-align: right;\n    }\n</style>\n<table border=\"1\" class=\"dataframe\">\n  <thead>\n    <tr style=\"text-align: right;\">\n      <th></th>\n      <th>id</th>\n      <th>imdb_id</th>\n      <th>popularity</th>\n      <th>budget</th>\n      <th>revenue</th>\n      <th>original_title</th>\n      <th>cast</th>\n      <th>homepage</th>\n      <th>director</th>\n      <th>tagline</th>\n      <th>...</th>\n      <th>overview</th>\n      <th>runtime</th>\n      <th>genres</th>\n      <th>production_companies</th>\n      <th>release_date</th>\n      <th>vote_count</th>\n      <th>vote_average</th>\n      <th>release_year</th>\n      <th>budget_adj</th>\n      <th>revenue_adj</th>\n    </tr>\n  </thead>\n  <tbody>\n    <tr>\n      <th>30</th>\n      <td>280996</td>\n      <td>tt3168230</td>\n      <td>3.927333</td>\n      <td>0</td>\n      <td>29355203</td>\n      <td>Mr. Holmes</td>\n      <td>Ian McKellen|Milo Parker|Laura Linney|Hattie M...</td>\n      <td>http://www.mrholmesfilm.com/</td>\n      <td>Bill Condon</td>\n      <td>The man behind the myth</td>\n      <td>...</td>\n      <td>The story is set in 1947, following a long-ret...</td>\n      <td>103</td>\n      <td>Mystery|Drama</td>\n      <td>BBC Films|See-Saw Films|FilmNation Entertainme...</td>\n      <td>6/19/15</td>\n      <td>425</td>\n      <td>6.4</td>\n      <td>2015</td>\n      <td>0.0</td>\n      <td>2.700677e+07</td>\n    </tr>\n    <tr>\n      <th>36</th>\n      <td>339527</td>\n      <td>tt1291570</td>\n      <td>3.358321</td>\n      <td>0</td>\n      <td>22354572</td>\n      <td>Solace</td>\n      <td>Abbie Cornish|Jeffrey Dean Morgan|Colin Farrel...</td>\n      <td>NaN</td>\n      <td>Afonso Poyart</td>\n      <td>A serial killer who can see your future, a psy...</td>\n      <td>...</td>\n      <td>A psychic doctor, John Clancy, works with an F...</td>\n      <td>101</td>\n      <td>Crime|Drama|Mystery</td>\n      <td>Eden Rock Media|FilmNation Entertainment|Flynn...</td>\n      <td>9/3/15</td>\n      <td>474</td>\n      <td>6.2</td>\n      <td>2015</td>\n      <td>0.0</td>\n      <td>2.056620e+07</td>\n    </tr>\n    <tr>\n      <th>72</th>\n      <td>284289</td>\n      <td>tt2911668</td>\n      <td>2.272044</td>\n      <td>0</td>\n      <td>45895</td>\n      <td>Beyond the Reach</td>\n      <td>Michael Douglas|Jeremy Irvine|Hanna Mangan Law...</td>\n      <td>NaN</td>\n      <td>Jean-Baptiste LÃ©onetti</td>\n      <td>NaN</td>\n      <td>...</td>\n      <td>A high-rolling corporate shark and his impover...</td>\n      <td>95</td>\n      <td>Thriller</td>\n      <td>Furthur Films</td>\n      <td>4/17/15</td>\n      <td>81</td>\n      <td>5.5</td>\n      <td>2015</td>\n      <td>0.0</td>\n      <td>4.222338e+04</td>\n    </tr>\n    <tr>\n      <th>74</th>\n      <td>347096</td>\n      <td>tt3478232</td>\n      <td>2.165433</td>\n      <td>0</td>\n      <td>0</td>\n      <td>Mythica: The Darkspore</td>\n      <td>Melanie Stone|Kevin Sorbo|Adam Johnson|Jake St...</td>\n      <td>http://www.mythicamovie.com/#!blank/wufvh</td>\n      <td>Anne K. Black</td>\n      <td>NaN</td>\n      <td>...</td>\n      <td>When Teelaâ€™s sister is murdered and a powerf...</td>\n      <td>108</td>\n      <td>Action|Adventure|Fantasy</td>\n      <td>Arrowstorm Entertainment</td>\n      <td>6/24/15</td>\n      <td>27</td>\n      <td>5.1</td>\n      <td>2015</td>\n      <td>0.0</td>\n      <td>0.000000e+00</td>\n    </tr>\n    <tr>\n      <th>75</th>\n      <td>308369</td>\n      <td>tt2582496</td>\n      <td>2.141506</td>\n      <td>0</td>\n      <td>0</td>\n      <td>Me and Earl and the Dying Girl</td>\n      <td>Thomas Mann|RJ Cyler|Olivia Cooke|Connie Britt...</td>\n      <td>http://www.foxsearchlight.com/meandearlandthed...</td>\n      <td>Alfonso Gomez-Rejon</td>\n      <td>A Little Friendship Never Killed Anyone.</td>\n      <td>...</td>\n      <td>Greg is coasting through senior year of high s...</td>\n      <td>105</td>\n      <td>Comedy|Drama</td>\n      <td>Indian Paintbrush</td>\n      <td>6/12/15</td>\n      <td>569</td>\n      <td>7.7</td>\n      <td>2015</td>\n      <td>0.0</td>\n      <td>0.000000e+00</td>\n    </tr>\n  </tbody>\n</table>\n<p>5 rows × 21 columns</p>\n</div>"
     },
     "metadata": {},
     "execution_count": 11
    }
   ],
   "source": [
    "# Filter budget data \n",
    "\n",
    "df_zero_budget = df.query('budget == 0')\n",
    "df_zero_budget.head()"
   ]
  },
  {
   "source": [
    "- Upon searching the internet, found that **Beyond the Reach** movie had a budget of $ 396k"
   ],
   "cell_type": "markdown",
   "metadata": {}
  },
  {
   "cell_type": "code",
   "execution_count": 12,
   "metadata": {},
   "outputs": [
    {
     "output_type": "execute_result",
     "data": {
      "text/plain": [
       "        id    imdb_id  popularity    budget  revenue  \\\n",
       "48  265208  tt2231253    2.932340  30000000        0   \n",
       "67  334074  tt3247714    2.331636  20000000        0   \n",
       "74  347096  tt3478232    2.165433         0        0   \n",
       "75  308369  tt2582496    2.141506         0        0   \n",
       "92  370687  tt3608646    1.876037         0        0   \n",
       "\n",
       "                    original_title  \\\n",
       "48                       Wild Card   \n",
       "67                        Survivor   \n",
       "74          Mythica: The Darkspore   \n",
       "75  Me and Earl and the Dying Girl   \n",
       "92        Mythica: The Necromancer   \n",
       "\n",
       "                                                 cast  \\\n",
       "48  Jason Statham|Michael Angarano|Milo Ventimigli...   \n",
       "67  Pierce Brosnan|Milla Jovovich|Dylan McDermott|...   \n",
       "74  Melanie Stone|Kevin Sorbo|Adam Johnson|Jake St...   \n",
       "75  Thomas Mann|RJ Cyler|Olivia Cooke|Connie Britt...   \n",
       "92  Melanie Stone|Adam Johnson|Kevin Sorbo|Nicola ...   \n",
       "\n",
       "                                             homepage             director  \\\n",
       "48                                                NaN           Simon West   \n",
       "67                          http://survivormovie.com/       James McTeigue   \n",
       "74          http://www.mythicamovie.com/#!blank/wufvh        Anne K. Black   \n",
       "75  http://www.foxsearchlight.com/meandearlandthed...  Alfonso Gomez-Rejon   \n",
       "92          http://www.mythicamovie.com/#!blank/y9ake        A. Todd Smith   \n",
       "\n",
       "                                        tagline  ...  \\\n",
       "48  Never bet against a man with a killer hand.  ...   \n",
       "67           His Next Target is Now Hunting Him  ...   \n",
       "74                                          NaN  ...   \n",
       "75     A Little Friendship Never Killed Anyone.  ...   \n",
       "92                                          NaN  ...   \n",
       "\n",
       "                                             overview runtime  \\\n",
       "48  When a Las Vegas bodyguard with lethal skills ...      92   \n",
       "67  A Foreign Service Officer in London tries to p...      96   \n",
       "74  When Teelaâ€™s sister is murdered and a powerf...     108   \n",
       "75  Greg is coasting through senior year of high s...     105   \n",
       "92  Mallister takes Thane prisoner and forces Mare...       0   \n",
       "\n",
       "                      genres  \\\n",
       "48      Thriller|Crime|Drama   \n",
       "67     Crime|Thriller|Action   \n",
       "74  Action|Adventure|Fantasy   \n",
       "75              Comedy|Drama   \n",
       "92  Fantasy|Action|Adventure   \n",
       "\n",
       "                                 production_companies release_date vote_count  \\\n",
       "48  Current Entertainment|Lionsgate|Sierra / Affin...      1/14/15        481   \n",
       "67  Nu Image Films|Winkler Films|Millennium Films|...      5/21/15        280   \n",
       "74                           Arrowstorm Entertainment      6/24/15         27   \n",
       "75                                  Indian Paintbrush      6/12/15        569   \n",
       "92  Arrowstorm Entertainment|Camera 40 Productions...     12/19/15         11   \n",
       "\n",
       "    vote_average  release_year    budget_adj  revenue_adj  \n",
       "48           5.3          2015  2.759999e+07          0.0  \n",
       "67           5.4          2015  1.839999e+07          0.0  \n",
       "74           5.1          2015  0.000000e+00          0.0  \n",
       "75           7.7          2015  0.000000e+00          0.0  \n",
       "92           5.4          2015  0.000000e+00          0.0  \n",
       "\n",
       "[5 rows x 21 columns]"
      ],
      "text/html": "<div>\n<style scoped>\n    .dataframe tbody tr th:only-of-type {\n        vertical-align: middle;\n    }\n\n    .dataframe tbody tr th {\n        vertical-align: top;\n    }\n\n    .dataframe thead th {\n        text-align: right;\n    }\n</style>\n<table border=\"1\" class=\"dataframe\">\n  <thead>\n    <tr style=\"text-align: right;\">\n      <th></th>\n      <th>id</th>\n      <th>imdb_id</th>\n      <th>popularity</th>\n      <th>budget</th>\n      <th>revenue</th>\n      <th>original_title</th>\n      <th>cast</th>\n      <th>homepage</th>\n      <th>director</th>\n      <th>tagline</th>\n      <th>...</th>\n      <th>overview</th>\n      <th>runtime</th>\n      <th>genres</th>\n      <th>production_companies</th>\n      <th>release_date</th>\n      <th>vote_count</th>\n      <th>vote_average</th>\n      <th>release_year</th>\n      <th>budget_adj</th>\n      <th>revenue_adj</th>\n    </tr>\n  </thead>\n  <tbody>\n    <tr>\n      <th>48</th>\n      <td>265208</td>\n      <td>tt2231253</td>\n      <td>2.932340</td>\n      <td>30000000</td>\n      <td>0</td>\n      <td>Wild Card</td>\n      <td>Jason Statham|Michael Angarano|Milo Ventimigli...</td>\n      <td>NaN</td>\n      <td>Simon West</td>\n      <td>Never bet against a man with a killer hand.</td>\n      <td>...</td>\n      <td>When a Las Vegas bodyguard with lethal skills ...</td>\n      <td>92</td>\n      <td>Thriller|Crime|Drama</td>\n      <td>Current Entertainment|Lionsgate|Sierra / Affin...</td>\n      <td>1/14/15</td>\n      <td>481</td>\n      <td>5.3</td>\n      <td>2015</td>\n      <td>2.759999e+07</td>\n      <td>0.0</td>\n    </tr>\n    <tr>\n      <th>67</th>\n      <td>334074</td>\n      <td>tt3247714</td>\n      <td>2.331636</td>\n      <td>20000000</td>\n      <td>0</td>\n      <td>Survivor</td>\n      <td>Pierce Brosnan|Milla Jovovich|Dylan McDermott|...</td>\n      <td>http://survivormovie.com/</td>\n      <td>James McTeigue</td>\n      <td>His Next Target is Now Hunting Him</td>\n      <td>...</td>\n      <td>A Foreign Service Officer in London tries to p...</td>\n      <td>96</td>\n      <td>Crime|Thriller|Action</td>\n      <td>Nu Image Films|Winkler Films|Millennium Films|...</td>\n      <td>5/21/15</td>\n      <td>280</td>\n      <td>5.4</td>\n      <td>2015</td>\n      <td>1.839999e+07</td>\n      <td>0.0</td>\n    </tr>\n    <tr>\n      <th>74</th>\n      <td>347096</td>\n      <td>tt3478232</td>\n      <td>2.165433</td>\n      <td>0</td>\n      <td>0</td>\n      <td>Mythica: The Darkspore</td>\n      <td>Melanie Stone|Kevin Sorbo|Adam Johnson|Jake St...</td>\n      <td>http://www.mythicamovie.com/#!blank/wufvh</td>\n      <td>Anne K. Black</td>\n      <td>NaN</td>\n      <td>...</td>\n      <td>When Teelaâ€™s sister is murdered and a powerf...</td>\n      <td>108</td>\n      <td>Action|Adventure|Fantasy</td>\n      <td>Arrowstorm Entertainment</td>\n      <td>6/24/15</td>\n      <td>27</td>\n      <td>5.1</td>\n      <td>2015</td>\n      <td>0.000000e+00</td>\n      <td>0.0</td>\n    </tr>\n    <tr>\n      <th>75</th>\n      <td>308369</td>\n      <td>tt2582496</td>\n      <td>2.141506</td>\n      <td>0</td>\n      <td>0</td>\n      <td>Me and Earl and the Dying Girl</td>\n      <td>Thomas Mann|RJ Cyler|Olivia Cooke|Connie Britt...</td>\n      <td>http://www.foxsearchlight.com/meandearlandthed...</td>\n      <td>Alfonso Gomez-Rejon</td>\n      <td>A Little Friendship Never Killed Anyone.</td>\n      <td>...</td>\n      <td>Greg is coasting through senior year of high s...</td>\n      <td>105</td>\n      <td>Comedy|Drama</td>\n      <td>Indian Paintbrush</td>\n      <td>6/12/15</td>\n      <td>569</td>\n      <td>7.7</td>\n      <td>2015</td>\n      <td>0.000000e+00</td>\n      <td>0.0</td>\n    </tr>\n    <tr>\n      <th>92</th>\n      <td>370687</td>\n      <td>tt3608646</td>\n      <td>1.876037</td>\n      <td>0</td>\n      <td>0</td>\n      <td>Mythica: The Necromancer</td>\n      <td>Melanie Stone|Adam Johnson|Kevin Sorbo|Nicola ...</td>\n      <td>http://www.mythicamovie.com/#!blank/y9ake</td>\n      <td>A. Todd Smith</td>\n      <td>NaN</td>\n      <td>...</td>\n      <td>Mallister takes Thane prisoner and forces Mare...</td>\n      <td>0</td>\n      <td>Fantasy|Action|Adventure</td>\n      <td>Arrowstorm Entertainment|Camera 40 Productions...</td>\n      <td>12/19/15</td>\n      <td>11</td>\n      <td>5.4</td>\n      <td>2015</td>\n      <td>0.000000e+00</td>\n      <td>0.0</td>\n    </tr>\n  </tbody>\n</table>\n<p>5 rows × 21 columns</p>\n</div>"
     },
     "metadata": {},
     "execution_count": 12
    }
   ],
   "source": [
    "# Filter data\n",
    "df_zero_revenue = df.query('revenue == 0')\n",
    "df_zero_revenue.head()"
   ]
  },
  {
   "source": [
    "- [Wikipedia](https://en.wikipedia.org/wiki/Wild_Card_(2015_film)) states that **Wild Card** had budget & box office collecion.\n",
    "- The movie **Mythica: The Darkspore** received a [tax credit](https://en.wikipedia.org/wiki/Mythica_(film_series)) for filming in Governor's office\n",
    "\n",
    "Hence, the zero  values in `budget` & `revenue` columns are missing values in the data set.\n",
    "\n",
    "Let's count the total zero values. Based on the total number of missing values we can drop or retain them."
   ],
   "cell_type": "markdown",
   "metadata": {}
  },
  {
   "cell_type": "code",
   "execution_count": 13,
   "metadata": {},
   "outputs": [
    {
     "output_type": "stream",
     "name": "stdout",
     "text": [
      "Total missing values in budget column: 5696\nTotal missing values in revenue column: 6016\n"
     ]
    }
   ],
   "source": [
    "print(\"Total missing values in budget column:\",df_zero_budget.shape[0])\n",
    "print(\"Total missing values in revenue column:\",df_zero_revenue.shape[0])\n"
   ]
  },
  {
   "source": [
    "Almost 50% of the rows in the dataset have missing values in the `budget` & `revenue` columns respectively.\n",
    "Instead of Dropping, we replace the missing with Null values."
   ],
   "cell_type": "markdown",
   "metadata": {}
  },
  {
   "cell_type": "code",
   "execution_count": 14,
   "metadata": {},
   "outputs": [
    {
     "output_type": "execute_result",
     "data": {
      "text/plain": [
       "id                      31\n",
       "imdb_id                 31\n",
       "popularity              31\n",
       "budget                  31\n",
       "revenue                 31\n",
       "original_title          31\n",
       "cast                    31\n",
       "homepage                 6\n",
       "director                29\n",
       "tagline                  5\n",
       "keywords                15\n",
       "overview                29\n",
       "runtime                 31\n",
       "genres                  30\n",
       "production_companies    13\n",
       "release_date            31\n",
       "vote_count              31\n",
       "vote_average            31\n",
       "release_year            31\n",
       "budget_adj              31\n",
       "revenue_adj             31\n",
       "dtype: int64"
      ]
     },
     "metadata": {},
     "execution_count": 14
    }
   ],
   "source": [
    "df.query('runtime == 0').count()"
   ]
  },
  {
   "source": [
    "#### Issues\n",
    "- Drop unnecessary columns \n",
    "- Drop duplicates\n",
    "- Drop Null values from `cast`, `director`, `genres`\n",
    "- Fix: Zero values in `budget` & `revenue` columns.\n",
    "- Drop zero value records in `runtime`\n",
    "- Fix `release_date` dtype\n",
    "\n",
    "- Split values in `genre` & `casts` into separate columns."
   ],
   "cell_type": "markdown",
   "metadata": {}
  },
  {
   "source": [
    "### Cleaning Data:"
   ],
   "cell_type": "markdown",
   "metadata": {}
  },
  {
   "cell_type": "code",
   "execution_count": 15,
   "metadata": {},
   "outputs": [
    {
     "output_type": "execute_result",
     "data": {
      "text/plain": [
       "Index(['id', 'popularity', 'budget', 'revenue', 'original_title', 'cast',\n",
       "       'director', 'keywords', 'runtime', 'genres', 'production_companies',\n",
       "       'release_date', 'vote_count', 'vote_average', 'release_year'],\n",
       "      dtype='object')"
      ]
     },
     "metadata": {},
     "execution_count": 15
    }
   ],
   "source": [
    "# Define: Drop unnecesary columns\n",
    "\n",
    "# Code\n",
    "col = ['imdb_id', 'homepage', 'tagline', 'overview', 'budget_adj', 'revenue_adj']\n",
    "df.drop(col, axis = 1, inplace = True)\n",
    "\n",
    "# Test\n",
    "df.columns"
   ]
  },
  {
   "cell_type": "code",
   "execution_count": 16,
   "metadata": {},
   "outputs": [
    {
     "output_type": "execute_result",
     "data": {
      "text/plain": [
       "False"
      ]
     },
     "metadata": {},
     "execution_count": 16
    }
   ],
   "source": [
    "# Define: Drop duplicated values\n",
    "\n",
    "# Code\n",
    "df.drop_duplicates(inplace=True)\n",
    "\n",
    "# Test \n",
    "df.duplicated().any()"
   ]
  },
  {
   "cell_type": "code",
   "execution_count": 17,
   "metadata": {},
   "outputs": [
    {
     "output_type": "execute_result",
     "data": {
      "text/plain": [
       "id                         0\n",
       "popularity                 0\n",
       "budget                     0\n",
       "revenue                    0\n",
       "original_title             0\n",
       "cast                       0\n",
       "director                   0\n",
       "keywords                1425\n",
       "runtime                    0\n",
       "genres                     0\n",
       "production_companies     959\n",
       "release_date               0\n",
       "vote_count                 0\n",
       "vote_average               0\n",
       "release_year               0\n",
       "dtype: int64"
      ]
     },
     "metadata": {},
     "execution_count": 17
    }
   ],
   "source": [
    "# Define: Drop Null values from cast, director, genres columns\n",
    "\n",
    "# Code\n",
    "cols = ['cast', 'director', 'genres']\n",
    "df.dropna(subset = cols, how = 'any', inplace = True)\n",
    "\n",
    "# Test\n",
    "df.isnull().sum()"
   ]
  },
  {
   "cell_type": "code",
   "execution_count": 18,
   "metadata": {},
   "outputs": [
    {
     "output_type": "stream",
     "name": "stdout",
     "text": [
      "<class 'pandas.core.frame.DataFrame'>\nInt64Index: 10731 entries, 0 to 10865\nData columns (total 15 columns):\n #   Column                Non-Null Count  Dtype  \n---  ------                --------------  -----  \n 0   id                    10731 non-null  int64  \n 1   popularity            10731 non-null  float64\n 2   budget                5153 non-null   float64\n 3   revenue               4843 non-null   float64\n 4   original_title        10731 non-null  object \n 5   cast                  10731 non-null  object \n 6   director              10731 non-null  object \n 7   keywords              9306 non-null   object \n 8   runtime               10731 non-null  int64  \n 9   genres                10731 non-null  object \n 10  production_companies  9772 non-null   object \n 11  release_date          10731 non-null  object \n 12  vote_count            10731 non-null  int64  \n 13  vote_average          10731 non-null  float64\n 14  release_year          10731 non-null  int64  \ndtypes: float64(4), int64(4), object(7)\nmemory usage: 1.3+ MB\n"
     ]
    }
   ],
   "source": [
    "#Define: Zero values in `budget` & `revenue` column\n",
    "\n",
    "# Code\n",
    "\n",
    "df['budget'] = df['budget'].replace(0, np.NaN)\n",
    "df['revenue'] = df['revenue'].replace(0, np.NaN)\n",
    "\n",
    "# Test\n",
    "df.info()"
   ]
  },
  {
   "source": [
    "The above result shows, 5153 zero values in `budget` are replaced with Null values. Similar action was executed for `revenue` column."
   ],
   "cell_type": "markdown",
   "metadata": {}
  },
  {
   "cell_type": "code",
   "execution_count": 19,
   "metadata": {},
   "outputs": [
    {
     "output_type": "execute_result",
     "data": {
      "text/plain": [
       "Empty DataFrame\n",
       "Columns: [id, popularity, budget, revenue, original_title, cast, director, keywords, runtime, genres, production_companies, release_date, vote_count, vote_average, release_year]\n",
       "Index: []"
      ],
      "text/html": "<div>\n<style scoped>\n    .dataframe tbody tr th:only-of-type {\n        vertical-align: middle;\n    }\n\n    .dataframe tbody tr th {\n        vertical-align: top;\n    }\n\n    .dataframe thead th {\n        text-align: right;\n    }\n</style>\n<table border=\"1\" class=\"dataframe\">\n  <thead>\n    <tr style=\"text-align: right;\">\n      <th></th>\n      <th>id</th>\n      <th>popularity</th>\n      <th>budget</th>\n      <th>revenue</th>\n      <th>original_title</th>\n      <th>cast</th>\n      <th>director</th>\n      <th>keywords</th>\n      <th>runtime</th>\n      <th>genres</th>\n      <th>production_companies</th>\n      <th>release_date</th>\n      <th>vote_count</th>\n      <th>vote_average</th>\n      <th>release_year</th>\n    </tr>\n  </thead>\n  <tbody>\n  </tbody>\n</table>\n</div>"
     },
     "metadata": {},
     "execution_count": 19
    }
   ],
   "source": [
    "# Define: Drop xero values in 'runtime' column\n",
    "\n",
    "# Code\n",
    "df.query('runtime != 0', inplace = True)\n",
    "\n",
    "# Test\n",
    "df.query('runtime == 0')"
   ]
  },
  {
   "cell_type": "code",
   "execution_count": 20,
   "metadata": {},
   "outputs": [
    {
     "output_type": "stream",
     "name": "stdout",
     "text": [
      "<class 'pandas.core.frame.DataFrame'>\nInt64Index: 10703 entries, 0 to 10865\nData columns (total 15 columns):\n #   Column                Non-Null Count  Dtype         \n---  ------                --------------  -----         \n 0   id                    10703 non-null  int64         \n 1   popularity            10703 non-null  float64       \n 2   budget                5150 non-null   float64       \n 3   revenue               4843 non-null   float64       \n 4   original_title        10703 non-null  object        \n 5   cast                  10703 non-null  object        \n 6   director              10703 non-null  object        \n 7   keywords              9293 non-null   object        \n 8   runtime               10703 non-null  int64         \n 9   genres                10703 non-null  object        \n 10  production_companies  9759 non-null   object        \n 11  release_date          10703 non-null  datetime64[ns]\n 12  vote_count            10703 non-null  int64         \n 13  vote_average          10703 non-null  float64       \n 14  release_year          10703 non-null  int64         \ndtypes: datetime64[ns](1), float64(4), int64(4), object(6)\nmemory usage: 1.3+ MB\n"
     ]
    }
   ],
   "source": [
    "# Fix 'release_date' dtype\n",
    "df['release_date'] = pd.to_datetime(df['release_date'])\n",
    "\n",
    "# Check\n",
    "df.info()"
   ]
  },
  {
   "cell_type": "code",
   "execution_count": null,
   "metadata": {},
   "outputs": [],
   "source": []
  }
 ]
}